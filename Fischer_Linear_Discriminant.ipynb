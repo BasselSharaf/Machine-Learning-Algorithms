{
 "cells": [
  {
   "cell_type": "markdown",
   "metadata": {},
   "source": [
    "<h1><center>Fischer's Linear Discriminant</center></h1>\n",
    "<hr style=\"border:2px solid black\"> </hr>"
   ]
  },
  {
   "cell_type": "code",
   "execution_count": 1,
   "metadata": {},
   "outputs": [],
   "source": [
    "import numpy as np\n",
    "import matplotlib.pyplot as plt\n",
    "%matplotlib inline"
   ]
  },
  {
   "cell_type": "markdown",
   "metadata": {},
   "source": [
    "## Read Data"
   ]
  },
  {
   "cell_type": "code",
   "execution_count": 2,
   "metadata": {},
   "outputs": [],
   "source": [
    "# Read Training Images, Testing Images, Training Labels, Testing Labels\n",
    "def read_data(class_name:str):\n",
    "    train = np.array([plt.imread('Data/train/'+class_name+'/'+str(i)+'.jpg').reshape(-1) for i in range (0,5000)])/255\n",
    "    test = np.array([plt.imread('Data/test/'+class_name+'/'+str(i)+'.jpg').reshape(-1) for i in range (0,1000)])/255\n",
    "    return train,test"
   ]
  },
  {
   "cell_type": "code",
   "execution_count": 3,
   "metadata": {},
   "outputs": [],
   "source": [
    "airplane_train,airplane_test = read_data('airplane')\n",
    "automobile_train,automobile_test = read_data('automobile')\n",
    "frog_train,frog_test = read_data('frog')\n",
    "X_test=np.concatenate((airplane_test,automobile_test,frog_test))"
   ]
  },
  {
   "cell_type": "markdown",
   "metadata": {},
   "source": [
    "<hr style=\"border:2px solid black\"> </hr>\n",
    "\n",
    "## Construct Fischer's Linear Discriminant classifier for each of the 3 classes."
   ]
  },
  {
   "cell_type": "code",
   "execution_count": 4,
   "metadata": {},
   "outputs": [],
   "source": [
    "def covariance(images,mean):\n",
    "    result=np.zeros((mean.size,mean.size))\n",
    "    for i in images:\n",
    "        temp=i.reshape(-1,1)-mean\n",
    "        result=result+np.dot( temp ,np.transpose(temp))\n",
    "    return result\n",
    "        \n",
    "def make_fisher_classifier(class1,not_class1):\n",
    "    class1_mean = class1.mean(axis=0).reshape(-1,1)\n",
    "    not_class1_mean = not_class1.mean(axis=0).reshape(-1,1)\n",
    "    \n",
    "    sw = covariance(class1,class1_mean)+covariance(not_class1,not_class1_mean)\n",
    "    sw_inverse=np.linalg.pinv(sw)\n",
    "    \n",
    "    w = np.dot(sw_inverse,(class1_mean-not_class1_mean))\n",
    "    wnode= np.dot(np.transpose(w),(-0.5*(class1_mean+not_class1_mean)))\n",
    "    return w,wnode\n",
    "\n",
    "# Construct Confusion-Matrix for RGB results\n",
    "def get_results(test):\n",
    "    c_air=0\n",
    "    c_car=0\n",
    "    c_frog=0\n",
    "    for i in test:\n",
    "        c1=np.dot(np.transpose(ap_w),i)+ap_wnode[0][0]\n",
    "        c1=c1[0]\n",
    "        c2=np.dot(np.transpose(am_w),i)+am_wnode[0][0]\n",
    "        c2=c2[0]\n",
    "        c3=np.dot(np.transpose(fr_w),i)+fr_wnode[0][0]\n",
    "        c3=c3[0]\n",
    "        if(c1>c2 and c1>c3):\n",
    "            c_air=c_air+1\n",
    "        if(c2>c1 and c2>c3):\n",
    "            c_car=c_car+1\n",
    "        if(c3>c1 and c3>c2):\n",
    "            c_frog=c_frog+1\n",
    "    return [c_air,c_car,c_frog]\n",
    "\n",
    "# Construct Confusion-Matrix for Gray-scale results\n",
    "def get_gray_results(test):\n",
    "    c_air=0\n",
    "    c_car=0\n",
    "    c_frog=0\n",
    "    for i in test:\n",
    "        c1=np.dot(np.transpose(ap_gray_w),i)+ap_gray_wnode[0][0]\n",
    "        c1=c1[0]\n",
    "        c2=np.dot(np.transpose(am_gray_w),i)+am_gray_wnode[0][0]\n",
    "        c2=c2[0]\n",
    "        c3=np.dot(np.transpose(fr_gray_w),i)+fr_gray_wnode[0][0]\n",
    "        c3=c3[0]\n",
    "        if(c1>c2 and c1>c3):\n",
    "            c_air=c_air+1\n",
    "        if(c2>c1 and c2>c3):\n",
    "            c_car=c_car+1\n",
    "        if(c3>c1 and c3>c2):\n",
    "            c_frog=c_frog+1\n",
    "    return [c_air,c_car,c_frog]\n",
    "\n",
    "def convertGrayScale(image):\n",
    "    newImage=[]\n",
    "    for i in range(0,3070,3):\n",
    "        ir=0.30*image[i]\n",
    "        ig=0.59*image[i+1]\n",
    "        ib=0.11*image[i+2]\n",
    "        newImage.append(ir+ig+ib)\n",
    "    return np.array(newImage)"
   ]
  },
  {
   "cell_type": "code",
   "execution_count": 5,
   "metadata": {},
   "outputs": [
    {
     "name": "stdout",
     "output_type": "stream",
     "text": [
      "[[-8.71170724e-04]\n",
      " [ 8.27071114e-04]\n",
      " [ 7.27008849e-05]\n",
      " ...\n",
      " [-1.35779747e-04]\n",
      " [ 5.54266359e-04]\n",
      " [-5.19145918e-04]] [[-0.00026948]]\n"
     ]
    }
   ],
   "source": [
    "# Airplane Classifier\n",
    "ap_w,ap_wnode= make_fisher_classifier(airplane_train,np.concatenate((automobile_train,frog_train)))\n",
    "am_w,am_wnode = make_fisher_classifier(automobile_train,np.concatenate((airplane_train,frog_train)))\n",
    "print(ap_w,ap_wnode)"
   ]
  },
  {
   "cell_type": "code",
   "execution_count": 6,
   "metadata": {},
   "outputs": [
    {
     "name": "stdout",
     "output_type": "stream",
     "text": [
      "[[ 0.00105534]\n",
      " [-0.00088908]\n",
      " [-0.00019206]\n",
      " ...\n",
      " [ 0.00023386]\n",
      " [-0.00049885]\n",
      " [ 0.00028923]] [[-3.70923946e-06]]\n"
     ]
    }
   ],
   "source": [
    "# Automobile Classifier\n",
    "am_w,am_wnode = make_fisher_classifier(automobile_train,np.concatenate((airplane_train,frog_train)))\n",
    "print(am_w,am_wnode)"
   ]
  },
  {
   "cell_type": "code",
   "execution_count": 7,
   "metadata": {},
   "outputs": [
    {
     "name": "stdout",
     "output_type": "stream",
     "text": [
      "[[-2.88631331e-04]\n",
      " [ 1.35888204e-04]\n",
      " [ 1.51385089e-04]\n",
      " ...\n",
      " [-1.29918618e-04]\n",
      " [-2.76406163e-05]\n",
      " [ 2.43809866e-04]] [[8.51639067e-05]]\n"
     ]
    }
   ],
   "source": [
    "# Frog Classifier\n",
    "fr_w, fr_wnode = make_fisher_classifier(frog_train,np.concatenate((airplane_train,automobile_train)))\n",
    "print(fr_w,fr_wnode)"
   ]
  },
  {
   "cell_type": "code",
   "execution_count": 8,
   "metadata": {},
   "outputs": [],
   "source": [
    "cm=[get_results(airplane_test),get_results(automobile_test),get_results(frog_test)]\n",
    "confusion_matrix=np.array(cm)"
   ]
  },
  {
   "cell_type": "markdown",
   "metadata": {},
   "source": [
    "## Confusion Matrix"
   ]
  },
  {
   "cell_type": "code",
   "execution_count": 9,
   "metadata": {},
   "outputs": [
    {
     "data": {
      "image/png": "[encoded data removed]",
      "text/plain": [
       "<Figure size 360x360 with 1 Axes>"
      ]
     },
     "metadata": {
      "needs_background": "light"
     },
     "output_type": "display_data"
    }
   ],
   "source": [
    "# Make sure the previous cell returns a variable called confusion_matrix\n",
    "# Plot Confusion Matrix\n",
    "accuracy = np.diag(confusion_matrix).sum()/X_test.shape[0]\n",
    "plt.rc('figure', figsize=[5,5])\n",
    "plt.matshow(confusion_matrix,cmap=\"Blues\")\n",
    "plt.title('FLD+RGB = {0:0.3f}'.format(accuracy))\n",
    "for i in range(0,confusion_matrix.shape[0]):\n",
    "    for j in range(0,confusion_matrix.shape[1]):\n",
    "        plt.annotate(confusion_matrix[i,j],(j,i))"
   ]
  },
  {
   "cell_type": "markdown",
   "metadata": {},
   "source": [
    "## Repeated for Grayscale"
   ]
  },
  {
   "cell_type": "code",
   "execution_count": 10,
   "metadata": {},
   "outputs": [
    {
     "name": "stdout",
     "output_type": "stream",
     "text": [
      "[[ 4.23996863e-05]\n",
      " [-4.51059212e-06]\n",
      " [-2.01186072e-05]\n",
      " ...\n",
      " [-1.35712741e-04]\n",
      " [ 8.64789097e-05]\n",
      " [-5.59205801e-05]] [[-0.00024229]]\n"
     ]
    }
   ],
   "source": [
    "# Write code here\n",
    "# Convert Data to grayscale\n",
    "airplane_train_gray = np.array([convertGrayScale(i)for i in airplane_train])\n",
    "airplane_test_gray =  np.array([convertGrayScale(i) for i in airplane_test])\n",
    "automobile_train_gray =  np.array([convertGrayScale(i) for i in automobile_train])\n",
    "automobile_test_gray =  np.array([convertGrayScale(i) for i in automobile_test])\n",
    "frog_train_gray =  np.array([convertGrayScale(i) for i in frog_train])\n",
    "frog_test_gray =  np.array([convertGrayScale(i) for i in frog_test])\n",
    "\n",
    "# Train\n",
    "# Airplane Gray Classifier\n",
    "ap_gray_w,ap_gray_wnode= make_fisher_classifier(airplane_train_gray,np.concatenate((automobile_train_gray,frog_train_gray)))\n",
    "# Automobile Gray Classifier\n",
    "am_gray_w,am_gray_wnode = make_fisher_classifier(automobile_train_gray,np.concatenate((airplane_train_gray,frog_train_gray)))\n",
    "# Frog Gray Classifier\n",
    "fr_gray_w, fr_gray_wnode = make_fisher_classifier(frog_train_gray,np.concatenate((airplane_train_gray,automobile_train_gray)))\n",
    "\n",
    "# Test\n",
    "cm_gray=[get_gray_results(airplane_test_gray),get_gray_results(automobile_test_gray),get_gray_results(frog_test_gray)]\n",
    "# confusion_matrix = \n",
    "print(ap_gray_w,ap_gray_wnode)\n",
    "confusion_matrix=np.array(cm_gray)"
   ]
  },
  {
   "cell_type": "markdown",
   "metadata": {},
   "source": [
    "## Confusion Matrix (Don't Edit)"
   ]
  },
  {
   "cell_type": "code",
   "execution_count": 11,
   "metadata": {},
   "outputs": [
    {
     "data": {
      "image/png": "[encoded data removed]",
      "text/plain": [
       "<Figure size 360x360 with 1 Axes>"
      ]
     },
     "metadata": {
      "needs_background": "light"
     },
     "output_type": "display_data"
    }
   ],
   "source": [
    "# Make sure the previous cell returns a variable called confusion_matrix\n",
    "# Plot Confusion Matrix\n",
    "accuracy = np.diag(confusion_matrix).sum()/X_test.shape[0]\n",
    "plt.rc('figure', figsize=[5,5])\n",
    "plt.matshow(confusion_matrix,cmap=\"Blues\")\n",
    "plt.title('FLD+GRAY = {0:0.3f}'.format(accuracy))\n",
    "for i in range(0,confusion_matrix.shape[0]):\n",
    "    for j in range(0,confusion_matrix.shape[1]):\n",
    "        plt.annotate(confusion_matrix[i,j],(j,i))"
   ]
  },
  {
   "cell_type": "markdown",
   "metadata": {},
   "source": [
    "<hr style=\"border:2px solid black\"> </hr>\n",
    "\n",
    "## Comment on the change of accuracy between RGB and Grayscale\n",
    "##########\n",
    "\n",
    "Using RBG images 74.3% of the images where correctly classified. However, using Gray scale Accuracy 60.2% of the images were correctly classified. Therfore, for this use case using RGB images is better. The class that showed most difference between the two is the frog class since the difference between RGB and gray scale correctly identified images is 255 images. which is a lot compared to 91 and 77 for airplane and automobile.\n",
    "My interpretation for the results is that since image colors are lost during transforming to greyscale a lot of details that might identify many images apart from each other gets lost. Moreover, reducing the dimensionality of our data from 3072 dimensions in RGB to 1024 will lead to less information about the images and will be as if many points will be projected upon each other so the covariance between the different images wont be as big as the covariance for the RGB since it has much more dimensionality for the data to be spread through.\n",
    "\n",
    "##########\n",
    "<hr style=\"border:2px solid black\"> </hr>"
   ]
  }
 ],
 "metadata": {
  "interpreter": {
   "hash": "31f2aee4e71d21fbe5cf8b01ff0e069b9275f58929596ceb00d14d90e3e16cd6"
  },
  "kernelspec": {
   "display_name": "Python 3",
   "language": "python",
   "name": "python3"
  },
  "language_info": {
   "codemirror_mode": {
    "name": "ipython",
    "version": 3
   },
   "file_extension": ".py",
   "mimetype": "text/x-python",
   "name": "python",
   "nbconvert_exporter": "python",
   "pygments_lexer": "ipython3",
   "version": "3.9.3"
  }
 },
 "nbformat": 4,
 "nbformat_minor": 4
}
